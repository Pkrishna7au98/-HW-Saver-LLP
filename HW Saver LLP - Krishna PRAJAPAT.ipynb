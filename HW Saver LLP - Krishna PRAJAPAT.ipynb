{
 "cells": [
  {
   "cell_type": "code",
   "execution_count": 3,
   "id": "70829b89",
   "metadata": {},
   "outputs": [],
   "source": [
    "import cv2\n",
    "import numpy as np"
   ]
  },
  {
   "cell_type": "code",
   "execution_count": 8,
   "id": "c10369e5",
   "metadata": {
    "scrolled": true
   },
   "outputs": [],
   "source": [
    "for i in range(1,10):\n",
    "    image = cv2.imread(r\"Files\\Files\\Raw_Dataset\\img-\" + str(i) + \".jpg\")\n",
    "    original = image.copy()\n",
    "    gray = cv2.cvtColor(image, cv2.COLOR_BGR2GRAY)\n",
    "    \n",
    "    thresh = cv2.threshold(gray, 0, 255, cv2.THRESH_BINARY_INV + cv2.THRESH_OTSU)[1]\n",
    "    cnts, _ = cv2.findContours(thresh, cv2.RETR_EXTERNAL, cv2.CHAIN_APPROX_NONE)[-2:]\n",
    "    \n",
    "    mblnc = []\n",
    "    for c in cnts:\n",
    "        peri = 0.25*cv2.arcLength(c, True)\n",
    "        approx = cv2.approxPolyDP(c,peri, True)\n",
    "        x,y,w,h = cv2.boundingRect(approx)\n",
    "        aspect_ratio = w / float(h)\n",
    "        blnc = []\n",
    "        if aspect_ratio >0.7 and aspect_ratio < 1.3:\n",
    "            blnc.append([x,y,w,h])\n",
    "    \n",
    "        if len(blnc) != 0:\n",
    "            mblnc.append(blnc)\n",
    "    \n",
    "    sme = 0\n",
    "    ind = 0\n",
    "    for j, val in enumerate(mblnc): \n",
    "        if sme < np.sum(mblnc[j]):\n",
    "            sme = np.sum(val)\n",
    "            ind = j\n",
    "    x , y = mblnc[ind][0][0],mblnc[ind][0][1]\n",
    "    w , h = mblnc[ind][0][2],mblnc[ind][0][3]\n",
    "#     final_img = cv2.rectangle(original, (x,y), (x+w,y+h), (0,0,255), 3)\n",
    "    final_img = original[y-2:y+h+2, x-2:x+w+2]\n",
    "#     print(mblnc[ind])\n",
    "    cv2.imshow('RectAngle-detected', final_img)\n",
    "    if i == 2:\n",
    "        cv2.imwrite(r'C:\\Users\\kp779\\Desktop\\Interviews\\HW Saver LLP\\template.png',final_img)\n",
    "    cv2.waitKey(0)\n",
    "    cv2.destroyAllWindows()\n",
    "    \n",
    "cv2.destroyAllWindows()"
   ]
  },
  {
   "cell_type": "code",
   "execution_count": null,
   "id": "2100828d",
   "metadata": {},
   "outputs": [],
   "source": []
  },
  {
   "cell_type": "code",
   "execution_count": null,
   "id": "17677c00",
   "metadata": {},
   "outputs": [],
   "source": []
  },
  {
   "cell_type": "code",
   "execution_count": null,
   "id": "ee99a38b",
   "metadata": {},
   "outputs": [],
   "source": []
  },
  {
   "cell_type": "code",
   "execution_count": null,
   "id": "b506b6b7",
   "metadata": {},
   "outputs": [],
   "source": []
  },
  {
   "cell_type": "code",
   "execution_count": null,
   "id": "bc6cccbc",
   "metadata": {},
   "outputs": [],
   "source": []
  },
  {
   "cell_type": "code",
   "execution_count": null,
   "id": "5091e462",
   "metadata": {},
   "outputs": [],
   "source": []
  },
  {
   "cell_type": "code",
   "execution_count": null,
   "id": "1fef3c35",
   "metadata": {},
   "outputs": [],
   "source": []
  },
  {
   "cell_type": "code",
   "execution_count": null,
   "id": "7ac3d3f7",
   "metadata": {},
   "outputs": [],
   "source": []
  },
  {
   "cell_type": "code",
   "execution_count": null,
   "id": "2d63c245",
   "metadata": {},
   "outputs": [],
   "source": []
  }
 ],
 "metadata": {
  "kernelspec": {
   "display_name": "Python 3 (ipykernel)",
   "language": "python",
   "name": "python3"
  },
  "language_info": {
   "codemirror_mode": {
    "name": "ipython",
    "version": 3
   },
   "file_extension": ".py",
   "mimetype": "text/x-python",
   "name": "python",
   "nbconvert_exporter": "python",
   "pygments_lexer": "ipython3",
   "version": "3.9.7"
  }
 },
 "nbformat": 4,
 "nbformat_minor": 5
}
